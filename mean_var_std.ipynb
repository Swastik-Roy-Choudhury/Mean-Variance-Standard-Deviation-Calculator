{
  "nbformat": 4,
  "nbformat_minor": 0,
  "metadata": {
    "colab": {
      "provenance": []
    },
    "kernelspec": {
      "name": "python3",
      "display_name": "Python 3"
    },
    "language_info": {
      "name": "python"
    }
  },
  "cells": [
    {
      "cell_type": "code",
      "execution_count": 3,
      "metadata": {
        "colab": {
          "base_uri": "https://localhost:8080/"
        },
        "id": "eWVZZ1ZBa-lE",
        "outputId": "40cd1b4b-71ec-484e-f876-21710063ef2f"
      },
      "outputs": [
        {
          "output_type": "stream",
          "name": "stdout",
          "text": [
            "{'mean': [[3.0, 4.0, 5.0], [1.0, 4.0, 7.0], 4.0], 'variance': [[6.0, 6.0, 6.0], [0.6666666666666666, 0.6666666666666666, 0.6666666666666666], 6.666666666666667], 'standard deviation': [[2.449489742783178, 2.449489742783178, 2.449489742783178], [0.816496580927726, 0.816496580927726, 0.816496580927726], 2.581988897471611], 'max': [[6, 7, 8], [2, 5, 8], 8], 'min': [[0, 1, 2], [0, 3, 6], 0], 'sum': [[9, 12, 15], [3, 12, 21], 36]}\n"
          ]
        }
      ],
      "source": [
        "import numpy as np\n",
        "\n",
        "def calculate(input_list):\n",
        "    # Check if the list contains exactly 9 elements\n",
        "    if len(input_list) != 9:\n",
        "        raise ValueError(\"List must contain nine numbers.\")\n",
        "\n",
        "    # Convert the list into a 3x3 Numpy array\n",
        "    matrix = np.array(input_list).reshape(3, 3)\n",
        "\n",
        "    # Calculate the required values\n",
        "    calculations = {\n",
        "        'mean': [\n",
        "            matrix.mean(axis=0).tolist(),  # Mean for columns\n",
        "            matrix.mean(axis=1).tolist(),  # Mean for rows\n",
        "            matrix.mean().tolist()  # Mean for flattened matrix\n",
        "        ],\n",
        "        'variance': [\n",
        "            matrix.var(axis=0).tolist(),  # Variance for columns\n",
        "            matrix.var(axis=1).tolist(),  # Variance for rows\n",
        "            matrix.var().tolist()  # Variance for flattened matrix\n",
        "        ],\n",
        "        'standard deviation': [\n",
        "            matrix.std(axis=0).tolist(),  # Std Dev for columns\n",
        "            matrix.std(axis=1).tolist(),  # Std Dev for rows\n",
        "            matrix.std().tolist()  # Std Dev for flattened matrix\n",
        "        ],\n",
        "        'max': [\n",
        "            matrix.max(axis=0).tolist(),  # Max for columns\n",
        "            matrix.max(axis=1).tolist(),  # Max for rows\n",
        "            matrix.max().tolist()  # Max for flattened matrix\n",
        "        ],\n",
        "        'min': [\n",
        "            matrix.min(axis=0).tolist(),  # Min for columns\n",
        "            matrix.min(axis=1).tolist(),  # Min for rows\n",
        "            matrix.min().tolist()  # Min for flattened matrix\n",
        "        ],\n",
        "        'sum': [\n",
        "            matrix.sum(axis=0).tolist(),  # Sum for columns\n",
        "            matrix.sum(axis=1).tolist(),  # Sum for rows\n",
        "            matrix.sum().tolist()  # Sum for flattened matrix\n",
        "        ]\n",
        "    }\n",
        "\n",
        "    return calculations\n",
        "print(calculate([0, 1, 2, 3, 4, 5, 6, 7, 8]))"
      ]
    }
  ]
}